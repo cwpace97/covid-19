{
 "cells": [
  {
   "cell_type": "code",
   "execution_count": 1,
   "metadata": {},
   "outputs": [],
   "source": [
    "from __future__ import print_function\n",
    "from ipywidgets import interact, interactive, fixed, interact_manual\n",
    "import ipywidgets as widgets\n",
    "from datetime import datetime, timedelta\n",
    "from IPython.display import Image"
   ]
  },
  {
   "cell_type": "code",
   "execution_count": 2,
   "metadata": {},
   "outputs": [],
   "source": [
    "def days_between(d1, d2):\n",
    "    return abs((d2 - d1).days)\n",
    "\n",
    "def mdy(date):\n",
    "    month = date.month\n",
    "    if(month<10): month = '0'+str(month)\n",
    "    \n",
    "    day = date.day\n",
    "    if(day<10): day = '0'+str(day)\n",
    "        \n",
    "    year = date.year\n",
    "    \n",
    "    return str(month)+'-'+str(day)+'-'+str(year)\n",
    "\n",
    "def daysBack(date, days):\n",
    "    return date-timedelta(days=days)\n",
    "\n",
    "def daysForward(date, days):\n",
    "    return date+timedelta(days=days)"
   ]
  },
  {
   "cell_type": "code",
   "execution_count": 3,
   "metadata": {},
   "outputs": [],
   "source": [
    "def h(t, day):\n",
    "    file = 'delta_'+str(t)+'/'+str(mdy(daysForward(datetime.now(), day)))+' delta.png'\n",
    "    return Image(filename=file, width=700)"
   ]
  },
  {
   "cell_type": "code",
   "execution_count": 4,
   "metadata": {},
   "outputs": [],
   "source": [
    "minN = (days_between(datetime.now(), datetime(2020, 4, 1)))*-1+1"
   ]
  },
  {
   "cell_type": "code",
   "execution_count": 5,
   "metadata": {},
   "outputs": [
    {
     "data": {
      "application/vnd.jupyter.widget-view+json": {
       "model_id": "03157d63c3424a318f9e130451462fa7",
       "version_major": 2,
       "version_minor": 0
      },
      "text/plain": [
       "interactive(children=(Dropdown(description='t', options=('nation', 'state', 'county'), value='nation'), IntSli…"
      ]
     },
     "metadata": {},
     "output_type": "display_data"
    },
    {
     "data": {
      "text/plain": [
       "<function __main__.h(t, day)>"
      ]
     },
     "execution_count": 5,
     "metadata": {},
     "output_type": "execute_result"
    }
   ],
   "source": [
    "num_widget = widgets.IntSlider(min=minN, max=-1, step=1, value=minN);\n",
    "type_widget = widgets.Dropdown(options=['nation', 'state', 'county'])\n",
    "\n",
    "interactive_map = interact(h, t=type_widget, day=num_widget)\n",
    "interactive_map"
   ]
  }
 ],
 "metadata": {
  "kernelspec": {
   "display_name": "Python 3",
   "language": "python",
   "name": "python3"
  },
  "language_info": {
   "codemirror_mode": {
    "name": "ipython",
    "version": 3
   },
   "file_extension": ".py",
   "mimetype": "text/x-python",
   "name": "python",
   "nbconvert_exporter": "python",
   "pygments_lexer": "ipython3",
   "version": "3.6.10"
  }
 },
 "nbformat": 4,
 "nbformat_minor": 4
}
