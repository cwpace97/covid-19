{
 "cells": [
  {
   "cell_type": "code",
   "execution_count": 13,
   "metadata": {},
   "outputs": [],
   "source": [
    "from __future__ import print_function\n",
    "from ipywidgets import interact, interactive, fixed, interact_manual\n",
    "import ipywidgets as widgets\n",
    "from datetime import datetime, timedelta\n",
    "from IPython.display import Image"
   ]
  },
  {
   "cell_type": "code",
   "execution_count": 14,
   "metadata": {},
   "outputs": [],
   "source": [
    "def days_between(d1, d2):\n",
    "    return abs((d2 - d1).days)\n",
    "\n",
    "def mdy(date):\n",
    "    month = date.month\n",
    "    if(month<10): month = '0'+str(month)\n",
    "    \n",
    "    day = date.day\n",
    "    if(day<10): day = '0'+str(day)\n",
    "        \n",
    "    year = date.year\n",
    "    \n",
    "    return str(year)+'-'+str(month)+'-'+str(day)\n",
    "\n",
    "def daysBack(date, days):\n",
    "    return date-timedelta(days=days)\n",
    "\n",
    "def daysForward(date, days):\n",
    "    return date+timedelta(days=days)"
   ]
  },
  {
   "cell_type": "code",
   "execution_count": 15,
   "metadata": {},
   "outputs": [],
   "source": [
    "def h(t, day):\n",
    "    file = 'delta_'+str(t)+'/'+str(mdy(daysForward(datetime.now(), day)))+' delta.png'\n",
    "    return Image(filename=file, width=700)"
   ]
  },
  {
   "cell_type": "code",
   "execution_count": 16,
   "metadata": {},
   "outputs": [],
   "source": [
    "minN = (days_between(datetime.now(), datetime(2020, 1, 22)))*-1+1"
   ]
  },
  {
   "cell_type": "code",
   "execution_count": 17,
   "metadata": {},
   "outputs": [
    {
     "data": {
      "application/vnd.jupyter.widget-view+json": {
       "model_id": "bac8ea16323642d893ca37d397d3bea0",
       "version_major": 2,
       "version_minor": 0
      },
      "text/plain": [
       "interactive(children=(Dropdown(description='t', options=('nation', 'state'), value='nation'), IntSlider(value=…"
      ]
     },
     "metadata": {},
     "output_type": "display_data"
    },
    {
     "data": {
      "text/plain": [
       "<function __main__.h(t, day)>"
      ]
     },
     "execution_count": 17,
     "metadata": {},
     "output_type": "execute_result"
    }
   ],
   "source": [
    "num_widget = widgets.IntSlider(min=minN, max=-1, step=1, value=minN);\n",
    "type_widget = widgets.Dropdown(options=['nation', 'state'])\n",
    "\n",
    "interactive_map = interact(h, t=type_widget, day=num_widget)\n",
    "interactive_map"
   ]
  },
  {
   "cell_type": "code",
   "execution_count": null,
   "metadata": {},
   "outputs": [],
   "source": []
  },
  {
   "cell_type": "code",
   "execution_count": null,
   "metadata": {},
   "outputs": [],
   "source": []
  }
 ],
 "metadata": {
  "kernelspec": {
   "display_name": "Python 3",
   "language": "python",
   "name": "python3"
  },
  "language_info": {
   "codemirror_mode": {
    "name": "ipython",
    "version": 3
   },
   "file_extension": ".py",
   "mimetype": "text/x-python",
   "name": "python",
   "nbconvert_exporter": "python",
   "pygments_lexer": "ipython3",
   "version": "3.6.10"
  }
 },
 "nbformat": 4,
 "nbformat_minor": 4
}
