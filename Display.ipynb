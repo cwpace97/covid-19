{
 "cells": [
  {
   "cell_type": "code",
   "execution_count": 1,
   "metadata": {},
   "outputs": [],
   "source": [
    "from __future__ import print_function\n",
    "from ipywidgets import interact, interactive, fixed, interact_manual\n",
    "import ipywidgets as widgets\n",
    "from datetime import datetime, timedelta\n",
    "from IPython.display import Image\n",
    "import pandas as pd\n",
    "\n",
    "import sys\n",
    "from PIL import Image as img\n",
    "\n",
    "import numpy as np"
   ]
  },
  {
   "cell_type": "code",
   "execution_count": 2,
   "metadata": {},
   "outputs": [],
   "source": [
    "def days_between(d1, d2):\n",
    "    return abs((d2 - d1).days)\n",
    "\n",
    "def mdy(date):\n",
    "    month = date.month\n",
    "    if(month<10): month = '0'+str(month)\n",
    "    \n",
    "    day = date.day\n",
    "    if(day<10): day = '0'+str(day)\n",
    "        \n",
    "    year = date.year\n",
    "    \n",
    "    return str(year)+'-'+str(month)+'-'+str(day)\n",
    "\n",
    "def daysBack(date, days):\n",
    "    return date-timedelta(days=days)\n",
    "\n",
    "def daysForward(date, days):\n",
    "    return date+timedelta(days=days)"
   ]
  },
  {
   "cell_type": "code",
   "execution_count": 3,
   "metadata": {},
   "outputs": [],
   "source": [
    "def h(t, day):\n",
    "    file = 'delta_'+str(t)+'/'+str(mdy(daysForward(datetime.now(), day)))+' delta.png'\n",
    "    return Image(filename=file, width=700)"
   ]
  },
  {
   "cell_type": "code",
   "execution_count": 9,
   "metadata": {},
   "outputs": [],
   "source": [
    "minN = (days_between(datetime.now(), datetime(2020, 3, 22)))*-1+1"
   ]
  },
  {
   "cell_type": "code",
   "execution_count": 10,
   "metadata": {},
   "outputs": [
    {
     "data": {
      "application/vnd.jupyter.widget-view+json": {
       "model_id": "dd66e2c74721453a85f7f5bcee4f4760",
       "version_major": 2,
       "version_minor": 0
      },
      "text/plain": [
       "interactive(children=(Dropdown(description='t', options=('nation', 'state', 'county'), value='nation'), IntSli…"
      ]
     },
     "metadata": {},
     "output_type": "display_data"
    },
    {
     "data": {
      "text/plain": [
       "<function __main__.h(t, day)>"
      ]
     },
     "execution_count": 10,
     "metadata": {},
     "output_type": "execute_result"
    }
   ],
   "source": [
    "num_widget = widgets.IntSlider(min=minN, max=-1, step=1, value=minN);\n",
    "type_widget = widgets.Dropdown(options=['nation', 'state', 'county'])\n",
    "\n",
    "interactive_map = interact(h, t=type_widget, day=num_widget)\n",
    "interactive_map"
   ]
  },
  {
   "cell_type": "code",
   "execution_count": 6,
   "metadata": {},
   "outputs": [],
   "source": [
    "states = pd.read_csv('http://covidtracking.com/api/states/daily.csv')['state'].unique().tolist()"
   ]
  },
  {
   "cell_type": "code",
   "execution_count": 7,
   "metadata": {},
   "outputs": [],
   "source": [
    "def get_concat_v(im1, im2):\n",
    "    dst = img.new('RGB', (im1.width, im1.height + im2.height))\n",
    "    dst.paste(im1, (0, 0))\n",
    "    dst.paste(im2, (0, im1.height))\n",
    "    return dst"
   ]
  },
  {
   "cell_type": "code",
   "execution_count": 8,
   "metadata": {},
   "outputs": [
    {
     "data": {
      "application/vnd.jupyter.widget-view+json": {
       "model_id": "2c1a8a13fca648078c07da1f219a2f88",
       "version_major": 2,
       "version_minor": 0
      },
      "text/plain": [
       "interactive(children=(Dropdown(description='state', options=('AK', 'AL', 'AR', 'AS', 'AZ', 'CA', 'CO', 'CT', '…"
      ]
     },
     "metadata": {},
     "output_type": "display_data"
    }
   ],
   "source": [
    "def g(state):\n",
    "    file1 = 'states/'+str(state)+'.png'\n",
    "    file2 = 'state testing/'+str(state)+'.png'\n",
    "    \n",
    "    im1 = img.open(file1)\n",
    "    im2 = img.open(file2)\n",
    "    \n",
    "    new_im = get_concat_v(im1, im2)\n",
    "    \n",
    "    return new_im\n",
    "    \n",
    "states = ['AK','AL','AR', 'AS', 'AZ', 'CA', 'CO', 'CT', 'DC', 'DE', 'FL', 'GA', 'HI', 'IA', 'ID', 'IL', 'IN', 'KS', 'KY',\n",
    " 'LA', 'MA', 'MD', 'ME', 'MI', 'MN', 'MO', 'MP', 'MS', 'MT', 'NC', 'ND', 'NE', 'NH', 'NJ', 'NM', 'NV', 'NY', 'OH', 'OK',\n",
    " 'OR', 'PA', 'PR', 'RI', 'SC', 'SD', 'TN', 'TX', 'UT', 'VA', 'VT', 'WA', 'WI', 'WV', 'WY']\n",
    "state_widget = widgets.Dropdown(options=states)\n",
    "\n",
    "state_update = interact(g, state=state_widget)"
   ]
  }
 ],
 "metadata": {
  "kernelspec": {
   "display_name": "Python 3",
   "language": "python",
   "name": "python3"
  },
  "language_info": {
   "codemirror_mode": {
    "name": "ipython",
    "version": 3
   },
   "file_extension": ".py",
   "mimetype": "text/x-python",
   "name": "python",
   "nbconvert_exporter": "python",
   "pygments_lexer": "ipython3",
   "version": "3.6.10"
  }
 },
 "nbformat": 4,
 "nbformat_minor": 4
}
